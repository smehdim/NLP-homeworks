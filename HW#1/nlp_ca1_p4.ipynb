{
  "cells": [
    {
      "cell_type": "code",
      "execution_count": null,
      "metadata": {
        "id": "o7VelLEw17ka",
        "colab": {
          "base_uri": "https://localhost:8080/"
        },
        "outputId": "28e8001f-5081-421d-a2bb-cbef69f8de83"
      },
      "outputs": [
        {
          "output_type": "stream",
          "name": "stderr",
          "text": [
            "[nltk_data] Downloading package punkt to /root/nltk_data...\n",
            "[nltk_data]   Unzipping tokenizers/punkt.zip.\n"
          ]
        },
        {
          "output_type": "execute_result",
          "data": {
            "text/plain": [
              "True"
            ]
          },
          "metadata": {},
          "execution_count": 1
        }
      ],
      "source": [
        "import nltk\n",
        "import numpy as np\n",
        "import pandas as pd\n",
        "from nltk import ngrams\n",
        "from nltk.probability import FreqDist\n",
        "from sklearn.metrics import accuracy_score\n",
        "from sklearn.model_selection import train_test_split\n",
        "from sklearn.metrics import classification_report\n",
        "\n",
        "nltk.download('punkt')"
      ]
    },
    {
      "cell_type": "code",
      "source": [
        "from google.colab import drive\n",
        "drive.mount('/content/drive')"
      ],
      "metadata": {
        "colab": {
          "base_uri": "https://localhost:8080/"
        },
        "id": "7OZ-_z4-P43d",
        "outputId": "8e110bfc-4147-42b3-ce38-6063e59372d9"
      },
      "execution_count": null,
      "outputs": [
        {
          "output_type": "stream",
          "name": "stdout",
          "text": [
            "Mounted at /content/drive\n"
          ]
        }
      ]
    },
    {
      "cell_type": "code",
      "execution_count": null,
      "metadata": {
        "id": "2ROsWwTCGyRC"
      },
      "outputs": [],
      "source": [
        "# Step 1: Load the data\n",
        "data = pd.read_csv('/content/drive/MyDrive/datasets/nlp/ca1/google_play_store_apps_reviews.csv')\n",
        "\n",
        "# Step 2: Split the data\n",
        "train_data, test_data = train_test_split(data, test_size = 0.2, random_state = 42)"
      ]
    },
    {
      "cell_type": "code",
      "execution_count": null,
      "metadata": {
        "id": "LCLxiqPwvdoc"
      },
      "outputs": [],
      "source": [
        "# Step 3: Build the n-gram Language Model\n",
        "def get_ngrams(text, n):\n",
        "    tokens = nltk.word_tokenize(text)\n",
        "    return list(ngrams(tokens, n))\n",
        "\n",
        "def train_ngram(data, n):\n",
        "    positive_ngrams = []\n",
        "    negative_ngrams = []\n",
        "\n",
        "    for index, row in data.iterrows():\n",
        "        grams = get_ngrams(row['review'], n)\n",
        "        if row['polarity'] == 1:\n",
        "            positive_ngrams.extend(grams)\n",
        "        elif row['polarity'] == 0:\n",
        "            negative_ngrams.extend(grams)\n",
        "\n",
        "    positive_freq = FreqDist(positive_ngrams)\n",
        "    negative_freq = FreqDist(negative_ngrams)\n",
        "\n",
        "    return positive_freq, negative_freq\n",
        "\n",
        "# Step 4: Train the Model\n",
        "n = 2  # Change to the desired n-gram size\n",
        "positive_freq, negative_freq = train_ngram(train_data, n)"
      ]
    },
    {
      "cell_type": "code",
      "execution_count": null,
      "metadata": {
        "id": "eOWfIRYpwJjD"
      },
      "outputs": [],
      "source": [
        "# Step 5: test the n-gram\n",
        "def test_ngram(data, positive_freq, negative_freq, n):\n",
        "  pred_labels = []\n",
        "\n",
        "  # Implement testing n-gram language model process here.\n",
        "  for index, row in data.iterrows():\n",
        "    grams = get_ngrams(row['review'], n)\n",
        "    pos_score = 0\n",
        "    neg_score = 0\n",
        "    for gram in grams:\n",
        "        pos_score += positive_freq[gram]\n",
        "        neg_score += negative_freq[gram]\n",
        "    pred_labels.append(1 if pos_score >= neg_score else 0)\n",
        "\n",
        "  return pred_labels\n",
        "\n"
      ]
    },
    {
      "cell_type": "code",
      "execution_count": null,
      "metadata": {
        "colab": {
          "base_uri": "https://localhost:8080/",
          "height": 650
        },
        "id": "R26Y5R-uPc4N",
        "outputId": "3a0efdb6-920b-459d-8311-e838c9efeb05"
      },
      "outputs": [
        {
          "output_type": "stream",
          "name": "stdout",
          "text": [
            "Model accuracy: 77.65%\n",
            "              precision    recall  f1-score   support\n",
            "\n",
            "           0       0.76      0.99      0.86       126\n",
            "           1       0.93      0.26      0.41        53\n",
            "\n",
            "    accuracy                           0.78       179\n",
            "   macro avg       0.85      0.63      0.64       179\n",
            "weighted avg       0.81      0.78      0.73       179\n",
            "\n"
          ]
        },
        {
          "output_type": "display_data",
          "data": {
            "text/plain": [
              "<Figure size 800x500 with 2 Axes>"
            ],
            "image/png": "[encoded data removed]"
          },
          "metadata": {}
        }
      ],
      "source": [
        "# Step 6: Evaluate the model on the test set\n",
        "\n",
        "# Implement the evaluation process here.\n",
        "def evaluate_model(test_data, pred_labels):\n",
        "    true_labels = test_data['polarity'].tolist()\n",
        "    accuracy = accuracy_score(true_labels, pred_labels)\n",
        "    return accuracy\n",
        "\n",
        "import seaborn as sns\n",
        "from sklearn.metrics import confusion_matrix\n",
        "import matplotlib.pyplot as plt\n",
        "\n",
        "pred_labels = test_ngram(test_data,positive_freq,negative_freq,n)\n",
        "accuracy = evaluate_model(test_data, pred_labels)\n",
        "print(f\"Model accuracy: {accuracy*100:.2f}%\")\n",
        "print(classification_report(test_data['polarity'].tolist(), pred_labels))\n",
        "\n",
        "cm = confusion_matrix(test_data['polarity'].tolist(), pred_labels)\n",
        "\n",
        "# Plot using seaborn\n",
        "plt.figure(figsize=(8,5))\n",
        "sns.heatmap(cm, annot=True, fmt='d')\n",
        "plt.xlabel('Predicted')\n",
        "plt.ylabel('Truth')\n",
        "plt.show()"
      ]
    }
  ],
  "metadata": {
    "colab": {
      "provenance": []
    },
    "kernelspec": {
      "display_name": "Python 3",
      "name": "python3"
    },
    "language_info": {
      "name": "python"
    }
  },
  "nbformat": 4,
  "nbformat_minor": 0
}