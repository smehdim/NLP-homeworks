{
  "nbformat": 4,
  "nbformat_minor": 0,
  "metadata": {
    "colab": {
      "provenance": []
    },
    "kernelspec": {
      "name": "python3",
      "display_name": "Python 3"
    },
    "language_info": {
      "name": "python"
    }
  },
  "cells": [
    {
      "cell_type": "code",
      "execution_count": 1,
      "metadata": {
        "colab": {
          "base_uri": "https://localhost:8080/"
        },
        "id": "dD6NixDYDRzR",
        "outputId": "c137ca5a-a8af-4962-a02c-140ab6ef74b0"
      },
      "outputs": [
        {
          "output_type": "stream",
          "name": "stdout",
          "text": [
            "--2024-06-08 13:17:34--  https://object.pouta.csc.fi/OPUS-MIZAN/v1/moses/en-fa.txt.zip\n",
            "Resolving object.pouta.csc.fi (object.pouta.csc.fi)... 86.50.254.18, 86.50.254.19\n",
            "Connecting to object.pouta.csc.fi (object.pouta.csc.fi)|86.50.254.18|:443... connected.\n",
            "HTTP request sent, awaiting response... 200 OK\n",
            "Length: 59234779 (56M) [application/zip]\n",
            "Saving to: ‘en-fa.txt.zip’\n",
            "\n",
            "en-fa.txt.zip       100%[===================>]  56.49M  18.0MB/s    in 3.1s    \n",
            "\n",
            "2024-06-08 13:17:38 (18.0 MB/s) - ‘en-fa.txt.zip’ saved [59234779/59234779]\n",
            "\n",
            "Archive:  en-fa.txt.zip\n",
            "  inflating: README                  \n",
            "  inflating: LICENSE                 \n",
            "  inflating: MIZAN.en-fa.en          \n",
            "  inflating: MIZAN.en-fa.fa          \n",
            "  inflating: MIZAN.en-fa.xml         \n"
          ]
        }
      ],
      "source": [
        "!wget https://object.pouta.csc.fi/OPUS-MIZAN/v1/moses/en-fa.txt.zip\n",
        "!unzip en-fa.txt.zip\n"
      ]
    },
    {
      "cell_type": "code",
      "source": [
        "!pip install fairseq\n",
        "!pip install sentencepiece\n",
        "!pip install sacremoses"
      ],
      "metadata": {
        "colab": {
          "base_uri": "https://localhost:8080/"
        },
        "id": "E2_5mmSCF9Vk",
        "outputId": "dd7e51ba-65cf-45f4-dee3-d31de11b4e5b"
      },
      "execution_count": 2,
      "outputs": [
        {
          "output_type": "stream",
          "name": "stdout",
          "text": [
            "Collecting fairseq\n",
            "  Downloading fairseq-0.12.2.tar.gz (9.6 MB)\n",
            "\u001b[2K     \u001b[90m━━━━━━━━━━━━━━━━━━━━━━━━━━━━━━━━━━━━━━━━\u001b[0m \u001b[32m9.6/9.6 MB\u001b[0m \u001b[31m19.1 MB/s\u001b[0m eta \u001b[36m0:00:00\u001b[0m\n",
            "\u001b[?25h  Installing build dependencies ... \u001b[?25l\u001b[?25hdone\n",
            "  Getting requirements to build wheel ... \u001b[?25l\u001b[?25hdone\n",
            "  Installing backend dependencies ... \u001b[?25l\u001b[?25hdone\n",
            "  Preparing metadata (pyproject.toml) ... \u001b[?25l\u001b[?25hdone\n",
            "Requirement already satisfied: cffi in /usr/local/lib/python3.10/dist-packages (from fairseq) (1.16.0)\n",
            "Requirement already satisfied: cython in /usr/local/lib/python3.10/dist-packages (from fairseq) (3.0.10)\n",
            "Collecting hydra-core<1.1,>=1.0.7 (from fairseq)\n",
            "  Downloading hydra_core-1.0.7-py3-none-any.whl (123 kB)\n",
            "\u001b[2K     \u001b[90m━━━━━━━━━━━━━━━━━━━━━━━━━━━━━━━━━━━━━━━━\u001b[0m \u001b[32m123.8/123.8 kB\u001b[0m \u001b[31m14.6 MB/s\u001b[0m eta \u001b[36m0:00:00\u001b[0m\n",
            "\u001b[?25hCollecting omegaconf<2.1 (from fairseq)\n",
            "  Downloading omegaconf-2.0.6-py3-none-any.whl (36 kB)\n",
            "Requirement already satisfied: regex in /usr/local/lib/python3.10/dist-packages (from fairseq) (2024.5.15)\n",
            "Collecting sacrebleu>=1.4.12 (from fairseq)\n",
            "  Downloading sacrebleu-2.4.2-py3-none-any.whl (106 kB)\n",
            "\u001b[2K     \u001b[90m━━━━━━━━━━━━━━━━━━━━━━━━━━━━━━━━━━━━━━━━\u001b[0m \u001b[32m106.7/106.7 kB\u001b[0m \u001b[31m12.0 MB/s\u001b[0m eta \u001b[36m0:00:00\u001b[0m\n",
            "\u001b[?25hRequirement already satisfied: torch in /usr/local/lib/python3.10/dist-packages (from fairseq) (2.3.0+cu121)\n",
            "Requirement already satisfied: tqdm in /usr/local/lib/python3.10/dist-packages (from fairseq) (4.66.4)\n",
            "Collecting bitarray (from fairseq)\n",
            "  Downloading bitarray-2.9.2-cp310-cp310-manylinux_2_17_x86_64.manylinux2014_x86_64.whl (288 kB)\n",
            "\u001b[2K     \u001b[90m━━━━━━━━━━━━━━━━━━━━━━━━━━━━━━━━━━━━━━━━\u001b[0m \u001b[32m288.3/288.3 kB\u001b[0m \u001b[31m1.9 MB/s\u001b[0m eta \u001b[36m0:00:00\u001b[0m\n",
            "\u001b[?25hRequirement already satisfied: torchaudio>=0.8.0 in /usr/local/lib/python3.10/dist-packages (from fairseq) (2.3.0+cu121)\n",
            "Requirement already satisfied: numpy in /usr/local/lib/python3.10/dist-packages (from fairseq) (1.25.2)\n",
            "Collecting antlr4-python3-runtime==4.8 (from hydra-core<1.1,>=1.0.7->fairseq)\n",
            "  Downloading antlr4-python3-runtime-4.8.tar.gz (112 kB)\n",
            "\u001b[2K     \u001b[90m━━━━━━━━━━━━━━━━━━━━━━━━━━━━━━━━━━━━━━━━\u001b[0m \u001b[32m112.4/112.4 kB\u001b[0m \u001b[31m14.1 MB/s\u001b[0m eta \u001b[36m0:00:00\u001b[0m\n",
            "\u001b[?25h  Preparing metadata (setup.py) ... \u001b[?25l\u001b[?25hdone\n",
            "Requirement already satisfied: PyYAML>=5.1.* in /usr/local/lib/python3.10/dist-packages (from omegaconf<2.1->fairseq) (6.0.1)\n",
            "Requirement already satisfied: typing-extensions in /usr/local/lib/python3.10/dist-packages (from omegaconf<2.1->fairseq) (4.12.1)\n",
            "Collecting portalocker (from sacrebleu>=1.4.12->fairseq)\n",
            "  Downloading portalocker-2.8.2-py3-none-any.whl (17 kB)\n",
            "Requirement already satisfied: tabulate>=0.8.9 in /usr/local/lib/python3.10/dist-packages (from sacrebleu>=1.4.12->fairseq) (0.9.0)\n",
            "Collecting colorama (from sacrebleu>=1.4.12->fairseq)\n",
            "  Downloading colorama-0.4.6-py2.py3-none-any.whl (25 kB)\n",
            "Requirement already satisfied: lxml in /usr/local/lib/python3.10/dist-packages (from sacrebleu>=1.4.12->fairseq) (4.9.4)\n",
            "Requirement already satisfied: filelock in /usr/local/lib/python3.10/dist-packages (from torch->fairseq) (3.14.0)\n",
            "Requirement already satisfied: sympy in /usr/local/lib/python3.10/dist-packages (from torch->fairseq) (1.12.1)\n",
            "Requirement already satisfied: networkx in /usr/local/lib/python3.10/dist-packages (from torch->fairseq) (3.3)\n",
            "Requirement already satisfied: jinja2 in /usr/local/lib/python3.10/dist-packages (from torch->fairseq) (3.1.4)\n",
            "Requirement already satisfied: fsspec in /usr/local/lib/python3.10/dist-packages (from torch->fairseq) (2023.6.0)\n",
            "Collecting nvidia-cuda-nvrtc-cu12==12.1.105 (from torch->fairseq)\n",
            "  Using cached nvidia_cuda_nvrtc_cu12-12.1.105-py3-none-manylinux1_x86_64.whl (23.7 MB)\n",
            "Collecting nvidia-cuda-runtime-cu12==12.1.105 (from torch->fairseq)\n",
            "  Using cached nvidia_cuda_runtime_cu12-12.1.105-py3-none-manylinux1_x86_64.whl (823 kB)\n",
            "Collecting nvidia-cuda-cupti-cu12==12.1.105 (from torch->fairseq)\n",
            "  Using cached nvidia_cuda_cupti_cu12-12.1.105-py3-none-manylinux1_x86_64.whl (14.1 MB)\n",
            "Collecting nvidia-cudnn-cu12==8.9.2.26 (from torch->fairseq)\n",
            "  Using cached nvidia_cudnn_cu12-8.9.2.26-py3-none-manylinux1_x86_64.whl (731.7 MB)\n",
            "Collecting nvidia-cublas-cu12==12.1.3.1 (from torch->fairseq)\n",
            "  Using cached nvidia_cublas_cu12-12.1.3.1-py3-none-manylinux1_x86_64.whl (410.6 MB)\n",
            "Collecting nvidia-cufft-cu12==11.0.2.54 (from torch->fairseq)\n",
            "  Using cached nvidia_cufft_cu12-11.0.2.54-py3-none-manylinux1_x86_64.whl (121.6 MB)\n",
            "Collecting nvidia-curand-cu12==10.3.2.106 (from torch->fairseq)\n",
            "  Using cached nvidia_curand_cu12-10.3.2.106-py3-none-manylinux1_x86_64.whl (56.5 MB)\n",
            "Collecting nvidia-cusolver-cu12==11.4.5.107 (from torch->fairseq)\n",
            "  Using cached nvidia_cusolver_cu12-11.4.5.107-py3-none-manylinux1_x86_64.whl (124.2 MB)\n",
            "Collecting nvidia-cusparse-cu12==12.1.0.106 (from torch->fairseq)\n",
            "  Using cached nvidia_cusparse_cu12-12.1.0.106-py3-none-manylinux1_x86_64.whl (196.0 MB)\n",
            "Collecting nvidia-nccl-cu12==2.20.5 (from torch->fairseq)\n",
            "  Using cached nvidia_nccl_cu12-2.20.5-py3-none-manylinux2014_x86_64.whl (176.2 MB)\n",
            "Collecting nvidia-nvtx-cu12==12.1.105 (from torch->fairseq)\n",
            "  Using cached nvidia_nvtx_cu12-12.1.105-py3-none-manylinux1_x86_64.whl (99 kB)\n",
            "Requirement already satisfied: triton==2.3.0 in /usr/local/lib/python3.10/dist-packages (from torch->fairseq) (2.3.0)\n",
            "Collecting nvidia-nvjitlink-cu12 (from nvidia-cusolver-cu12==11.4.5.107->torch->fairseq)\n",
            "  Downloading nvidia_nvjitlink_cu12-12.5.40-py3-none-manylinux2014_x86_64.whl (21.3 MB)\n",
            "\u001b[2K     \u001b[90m━━━━━━━━━━━━━━━━━━━━━━━━━━━━━━━━━━━━━━━━\u001b[0m \u001b[32m21.3/21.3 MB\u001b[0m \u001b[31m46.7 MB/s\u001b[0m eta \u001b[36m0:00:00\u001b[0m\n",
            "\u001b[?25hRequirement already satisfied: pycparser in /usr/local/lib/python3.10/dist-packages (from cffi->fairseq) (2.22)\n",
            "Requirement already satisfied: MarkupSafe>=2.0 in /usr/local/lib/python3.10/dist-packages (from jinja2->torch->fairseq) (2.1.5)\n",
            "Requirement already satisfied: mpmath<1.4.0,>=1.1.0 in /usr/local/lib/python3.10/dist-packages (from sympy->torch->fairseq) (1.3.0)\n",
            "Building wheels for collected packages: fairseq, antlr4-python3-runtime\n",
            "  Building wheel for fairseq (pyproject.toml) ... \u001b[?25l\u001b[?25hdone\n",
            "  Created wheel for fairseq: filename=fairseq-0.12.2-cp310-cp310-linux_x86_64.whl size=11291789 sha256=42c7aeb4a0e52f6b4aec6f17e390c40e8800cafc43a692bee0221db77a42a5a0\n",
            "  Stored in directory: /root/.cache/pip/wheels/e4/35/55/9c66f65ec7c83fd6fbc2b9502a0ac81b2448a1196159dacc32\n",
            "  Building wheel for antlr4-python3-runtime (setup.py) ... \u001b[?25l\u001b[?25hdone\n",
            "  Created wheel for antlr4-python3-runtime: filename=antlr4_python3_runtime-4.8-py3-none-any.whl size=141211 sha256=258d5b54755d178c5b0374bfdb3209e1567bb16ff7eb206148dfb9969f31251d\n",
            "  Stored in directory: /root/.cache/pip/wheels/a7/20/bd/e1477d664f22d99989fd28ee1a43d6633dddb5cb9e801350d5\n",
            "Successfully built fairseq antlr4-python3-runtime\n",
            "Installing collected packages: bitarray, antlr4-python3-runtime, portalocker, omegaconf, nvidia-nvtx-cu12, nvidia-nvjitlink-cu12, nvidia-nccl-cu12, nvidia-curand-cu12, nvidia-cufft-cu12, nvidia-cuda-runtime-cu12, nvidia-cuda-nvrtc-cu12, nvidia-cuda-cupti-cu12, nvidia-cublas-cu12, colorama, sacrebleu, nvidia-cusparse-cu12, nvidia-cudnn-cu12, hydra-core, nvidia-cusolver-cu12, fairseq\n",
            "Successfully installed antlr4-python3-runtime-4.8 bitarray-2.9.2 colorama-0.4.6 fairseq-0.12.2 hydra-core-1.0.7 nvidia-cublas-cu12-12.1.3.1 nvidia-cuda-cupti-cu12-12.1.105 nvidia-cuda-nvrtc-cu12-12.1.105 nvidia-cuda-runtime-cu12-12.1.105 nvidia-cudnn-cu12-8.9.2.26 nvidia-cufft-cu12-11.0.2.54 nvidia-curand-cu12-10.3.2.106 nvidia-cusolver-cu12-11.4.5.107 nvidia-cusparse-cu12-12.1.0.106 nvidia-nccl-cu12-2.20.5 nvidia-nvjitlink-cu12-12.5.40 nvidia-nvtx-cu12-12.1.105 omegaconf-2.0.6 portalocker-2.8.2 sacrebleu-2.4.2\n",
            "Requirement already satisfied: sentencepiece in /usr/local/lib/python3.10/dist-packages (0.1.99)\n",
            "Collecting sacremoses\n",
            "  Downloading sacremoses-0.1.1-py3-none-any.whl (897 kB)\n",
            "\u001b[2K     \u001b[90m━━━━━━━━━━━━━━━━━━━━━━━━━━━━━━━━━━━━━━━━\u001b[0m \u001b[32m897.5/897.5 kB\u001b[0m \u001b[31m3.0 MB/s\u001b[0m eta \u001b[36m0:00:00\u001b[0m\n",
            "\u001b[?25hRequirement already satisfied: regex in /usr/local/lib/python3.10/dist-packages (from sacremoses) (2024.5.15)\n",
            "Requirement already satisfied: click in /usr/local/lib/python3.10/dist-packages (from sacremoses) (8.1.7)\n",
            "Requirement already satisfied: joblib in /usr/local/lib/python3.10/dist-packages (from sacremoses) (1.4.2)\n",
            "Requirement already satisfied: tqdm in /usr/local/lib/python3.10/dist-packages (from sacremoses) (4.66.4)\n",
            "Installing collected packages: sacremoses\n",
            "Successfully installed sacremoses-0.1.1\n"
          ]
        }
      ]
    },
    {
      "cell_type": "code",
      "source": [
        "!wc -l /content/MIZAN.en-fa.en\n",
        "!wc -l /content/MIZAN.en-fa.fa\n"
      ],
      "metadata": {
        "colab": {
          "base_uri": "https://localhost:8080/"
        },
        "id": "U87WKfgrE_x1",
        "outputId": "304127cf-de94-49dc-94be-477bad3fb822"
      },
      "execution_count": null,
      "outputs": [
        {
          "output_type": "stream",
          "name": "stdout",
          "text": [
            "1021597 /content/MIZAN.en-fa.en\n",
            "1021597 /content/MIZAN.en-fa.fa\n"
          ]
        }
      ]
    },
    {
      "cell_type": "code",
      "source": [
        "!head /content/MIZAN.en-fa.en -n 3\n",
        "!head /content/MIZAN.en-fa.fa -n 3"
      ],
      "metadata": {
        "colab": {
          "base_uri": "https://localhost:8080/"
        },
        "id": "SQvFhtQFFWYc",
        "outputId": "b039d00e-23e3-4c81-a5c7-b4e55cb36711"
      },
      "execution_count": null,
      "outputs": [
        {
          "output_type": "stream",
          "name": "stdout",
          "text": [
            "The story which follows was first written out in Paris during the Peace Conference \n",
            "from notes jotted daily on the march, strengthened by some reports sent to my chiefs in Cairo. \n",
            "Afterwards, in the autumn of 1919, this first draft and some of the notes were lost. \n",
            "داستانی که از نظر شما می‌گذرد، ابتدا ضمن کنفرانس صلح پاریس از روی یادداشت‌هائی که به طور روزانه در حال خدمت در صف برداشته شده بودند \n",
            "و از روی گزارشاتی که برای رؤسای من در قاهره ارسال گردیده بودند نوشته شد. \n",
            "بعدا در پائیز سال 1919، این نوشته اولیه و بعضی از یادداشت‌ها، مفقود شدند. \n"
          ]
        }
      ]
    },
    {
      "cell_type": "code",
      "source": [
        "import sentencepiece as spm\n",
        "\n",
        "# Function to train SentencePiece and tokenize the file\n",
        "def train_and_tokenize(file_path, model_prefix):\n",
        "    spm.SentencePieceTrainer.train(input=file_path, model_prefix=model_prefix, vocab_size=8000, character_coverage=1.0, model_type='word')\n",
        "    sp = spm.SentencePieceProcessor(model_file=f'{model_prefix}.model')\n",
        "    with open(file_path, 'r') as file:\n",
        "        lines = file.readlines()\n",
        "    tokenized_lines = [sp.encode(line, out_type=str) for line in lines]\n",
        "    token_counts = [len(tokens) for tokens in tokenized_lines]\n",
        "    return tokenized_lines, token_counts\n",
        "\n",
        "# Tokenize and create histograms for English and Persian files\n",
        "tokenized_lines_en, token_counts_en = train_and_tokenize('/content/MIZAN.en-fa.en', 'm_en')\n",
        "tokenized_lines_fa, token_counts_fa = train_and_tokenize('/content/MIZAN.en-fa.fa', 'm_fa')\n"
      ],
      "metadata": {
        "id": "xDfryjg7KGhb"
      },
      "execution_count": null,
      "outputs": []
    },
    {
      "cell_type": "code",
      "source": [
        "import matplotlib.pyplot as plt\n",
        "\n",
        "# Function to plot histograms\n",
        "def plot_histogram(token_counts, language):\n",
        "    plt.hist(token_counts, bins=range(1, 51), edgecolor='black')\n",
        "    plt.title(f'Token Count Histogram for {language} Data')\n",
        "    plt.xlabel('Number of Tokens')\n",
        "    plt.ylabel('Frequency')\n",
        "    plt.show()\n",
        "\n",
        "plot_histogram(token_counts_en, 'English')\n",
        "plot_histogram(token_counts_fa, 'Persian')"
      ],
      "metadata": {
        "colab": {
          "base_uri": "https://localhost:8080/",
          "height": 927
        },
        "id": "zpuLsb5qLyBa",
        "outputId": "7053d388-9065-402f-8cdd-8e1036bd6dde"
      },
      "execution_count": null,
      "outputs": [
        {
          "output_type": "display_data",
          "data": {
            "text/plain": [
              "<Figure size 640x480 with 1 Axes>"
            ],
            "image/png": "[encoded data removed]"
          },
          "metadata": {}
        },
        {
          "output_type": "display_data",
          "data": {
            "text/plain": [
              "<Figure size 640x480 with 1 Axes>"
            ],
            "image/png": "[encoded data removed]"
          },
          "metadata": {}
        }
      ]
    },
    {
      "cell_type": "code",
      "source": [
        "\n",
        "# Function to filter lines based on token counts\n",
        "def filter_lines(tokenized_lines, token_counts, min_tokens=10, max_tokens=50):\n",
        "    filtered_lines = [line for line, count in zip(tokenized_lines, token_counts) if min_tokens <= count <= max_tokens]\n",
        "    return filtered_lines\n",
        "\n",
        "# Filter lines for both files\n",
        "filtered_lines_en = filter_lines(tokenized_lines_en, token_counts_fa)\n",
        "filtered_lines_fa = filter_lines(tokenized_lines_fa, token_counts_fa)\n",
        "\n",
        "with open('/content/MIZAN.filtered.en-fa.en', 'w') as file:\n",
        "    for tokens in filtered_lines_en:\n",
        "        file.write(' '.join(tokens) + '\\n')\n",
        "\n",
        "with open('/content/MIZAN.filtered.en-fa.fa', 'w') as file:\n",
        "    for tokens in filtered_lines_fa:\n",
        "        file.write(' '.join(tokens) + '\\n')\n",
        "\n",
        "print(\"New number of lines in English dataset:\", len(filtered_lines_en))\n",
        "print(\"New number of lines in Persian dataset:\", len(filtered_lines_fa))"
      ],
      "metadata": {
        "colab": {
          "base_uri": "https://localhost:8080/"
        },
        "id": "sTijzMEqMCpR",
        "outputId": "e461dab0-9b0f-4828-d0ea-3ff4451f5b8f"
      },
      "execution_count": null,
      "outputs": [
        {
          "output_type": "stream",
          "name": "stdout",
          "text": [
            "New number of lines in English dataset: 585266\n",
            "New number of lines in Persian dataset: 585266\n"
          ]
        }
      ]
    },
    {
      "cell_type": "code",
      "source": [
        "import random\n",
        "\n",
        "# Function to shuffle and split the dataset\n",
        "def shuffle_and_split(en_lines, fa_lines, train_size, eval_size, test_size, seed=42):\n",
        "    combined = list(zip(en_lines, fa_lines))\n",
        "    random.seed(seed)\n",
        "    random.shuffle(combined)\n",
        "    en_lines, fa_lines = zip(*combined)\n",
        "\n",
        "    train_en, eval_en, test_en = en_lines[:train_size], en_lines[train_size:train_size+eval_size], en_lines[train_size+eval_size:train_size+eval_size+test_size]\n",
        "    train_fa, eval_fa, test_fa = fa_lines[:train_size], fa_lines[train_size:train_size+eval_size], fa_lines[train_size+eval_size:train_size+eval_size+test_size]\n",
        "\n",
        "    return (train_en, eval_en, test_en), (train_fa, eval_fa, test_fa)\n",
        "\n",
        "train_size = 500000\n",
        "eval_size = 5000\n",
        "test_size = 10000\n",
        "\n",
        "# Shuffle and split the datasets\n",
        "(train_en, eval_en, test_en), (train_fa, eval_fa, test_fa) = shuffle_and_split(filtered_lines_en, filtered_lines_fa, train_size, eval_size, test_size)\n",
        "\n",
        "# Save the datasets to files\n",
        "def save_dataset(file_path, lines):\n",
        "    with open(file_path, 'w') as file:\n",
        "        for line in lines:\n",
        "            file.write(' '.join(line) + '\\n')\n",
        "\n",
        "save_dataset('/content/drive/MyDrive/datasets/nlp/ca5/train.en', train_en)\n",
        "save_dataset('/content/drive/MyDrive/datasets/nlp/ca5/eval.en', eval_en)\n",
        "save_dataset('/content/drive/MyDrive/datasets/nlp/ca5/test.en', test_en)\n",
        "\n",
        "save_dataset('/content/drive/MyDrive/datasets/nlp/ca5/train.fa', train_fa)\n",
        "save_dataset('/content/drive/MyDrive/datasets/nlp/ca5/eval.fa', eval_fa)\n",
        "save_dataset('/content/drive/MyDrive/datasets/nlp/ca5/test.fa', test_fa)\n",
        "\n",
        "# Report the number of lines in each new dataset\n",
        "print(\"Training set size:\", len(train_en))\n",
        "print(\"Evaluation set size:\", len(eval_en))\n",
        "print(\"Test set size:\", len(test_en))"
      ],
      "metadata": {
        "colab": {
          "base_uri": "https://localhost:8080/"
        },
        "id": "evjbko_tMnx5",
        "outputId": "d975660a-cf19-4ac3-bcef-45c0e393f4b2"
      },
      "execution_count": null,
      "outputs": [
        {
          "output_type": "stream",
          "name": "stdout",
          "text": [
            "Training set size: 500000\n",
            "Evaluation set size: 5000\n",
            "Test set size: 10000\n"
          ]
        }
      ]
    },
    {
      "cell_type": "code",
      "source": [
        "!head /content/drive/MyDrive/datasets/nlp/ca5/train.fa -n 2\n",
        "!head /content/drive/MyDrive/datasets/nlp/ca5/train.en -n 2\n"
      ],
      "metadata": {
        "colab": {
          "base_uri": "https://localhost:8080/"
        },
        "id": "WmFsiY8lPDAA",
        "outputId": "888b2593-ba84-4d4e-9449-6fcc4a5e0f1e"
      },
      "execution_count": null,
      "outputs": [
        {
          "output_type": "stream",
          "name": "stdout",
          "text": [
            "▁مورل ▁آهسته ▁گفت ▁آری ▁گفتی ▁اما ▁این ▁حرف ▁را ▁به ▁غیر ▁از ▁من ▁به ▁دیگری ▁هم ▁گفته ▁ای\n",
            "▁وقتی ▁قرار ▁است ▁تمام ▁روزت ▁را ▁همراه ▁با ▁دوکی ▁اعظم ▁به ▁تماشای ▁مکس ▁های ▁آبی ▁رنگ ▁بگذرانی؟\n",
            "▁And ▁did ▁you ▁mention ▁these ▁suspicions ▁to ▁any ▁person ▁beside ▁myself\n",
            "▁if ▁I ▁have ▁to ▁pass ▁all ▁my ▁mornings ▁watching ▁blue ▁bottles ▁with ▁an ▁Archduke?'\n"
          ]
        }
      ]
    }
  ]
}